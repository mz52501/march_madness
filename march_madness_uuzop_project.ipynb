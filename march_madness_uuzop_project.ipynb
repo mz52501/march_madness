{
 "cells": [
  {
   "cell_type": "code",
   "execution_count": 399,
   "id": "bfa31493-acce-4307-81c3-dcfef9faf72e",
   "metadata": {},
   "outputs": [],
   "source": [
    "import pandas as pd\n",
    "import matplotlib.pyplot as plt\n",
    "from sklearn.preprocessing import LabelEncoder"
   ]
  },
  {
   "cell_type": "markdown",
   "source": [
    "## Tablica seasons"
   ],
   "metadata": {
    "collapsed": false
   }
  },
  {
   "cell_type": "code",
   "execution_count": 400,
   "outputs": [
    {
     "data": {
      "text/plain": "(19, 7)"
     },
     "execution_count": 400,
     "metadata": {},
     "output_type": "execute_result"
    }
   ],
   "source": [
    "seasons = pd.read_csv(\"seasons.csv\")\n",
    "seasons.shape"
   ],
   "metadata": {
    "collapsed": false
   }
  },
  {
   "cell_type": "markdown",
   "source": [
    "Uz pomoć funkcije shape dobili smo broj redaka i stupaca u tablici, a fja head će nam prikazati kako izgleda prvih 5 redaka"
   ],
   "metadata": {
    "collapsed": false
   }
  },
  {
   "cell_type": "code",
   "execution_count": 401,
   "outputs": [
    {
     "data": {
      "text/plain": "  season      years     dayzero  regionW    regionX    regionY regionZ\n0      A  1995-1996  10/30/1995     East    Midwest  Southeast    West\n1      B  1996-1997  10/28/1996     East  Southeast    Midwest    West\n2      C  1997-1998  10/27/1997     East       West    Midwest   South\n3      D  1998-1999  10/26/1998     East    Midwest      South    West\n4      E  1999-2000  11/01/1999  Midwest       West       East   South",
      "text/html": "<div>\n<style scoped>\n    .dataframe tbody tr th:only-of-type {\n        vertical-align: middle;\n    }\n\n    .dataframe tbody tr th {\n        vertical-align: top;\n    }\n\n    .dataframe thead th {\n        text-align: right;\n    }\n</style>\n<table border=\"1\" class=\"dataframe\">\n  <thead>\n    <tr style=\"text-align: right;\">\n      <th></th>\n      <th>season</th>\n      <th>years</th>\n      <th>dayzero</th>\n      <th>regionW</th>\n      <th>regionX</th>\n      <th>regionY</th>\n      <th>regionZ</th>\n    </tr>\n  </thead>\n  <tbody>\n    <tr>\n      <th>0</th>\n      <td>A</td>\n      <td>1995-1996</td>\n      <td>10/30/1995</td>\n      <td>East</td>\n      <td>Midwest</td>\n      <td>Southeast</td>\n      <td>West</td>\n    </tr>\n    <tr>\n      <th>1</th>\n      <td>B</td>\n      <td>1996-1997</td>\n      <td>10/28/1996</td>\n      <td>East</td>\n      <td>Southeast</td>\n      <td>Midwest</td>\n      <td>West</td>\n    </tr>\n    <tr>\n      <th>2</th>\n      <td>C</td>\n      <td>1997-1998</td>\n      <td>10/27/1997</td>\n      <td>East</td>\n      <td>West</td>\n      <td>Midwest</td>\n      <td>South</td>\n    </tr>\n    <tr>\n      <th>3</th>\n      <td>D</td>\n      <td>1998-1999</td>\n      <td>10/26/1998</td>\n      <td>East</td>\n      <td>Midwest</td>\n      <td>South</td>\n      <td>West</td>\n    </tr>\n    <tr>\n      <th>4</th>\n      <td>E</td>\n      <td>1999-2000</td>\n      <td>11/01/1999</td>\n      <td>Midwest</td>\n      <td>West</td>\n      <td>East</td>\n      <td>South</td>\n    </tr>\n  </tbody>\n</table>\n</div>"
     },
     "execution_count": 401,
     "metadata": {},
     "output_type": "execute_result"
    }
   ],
   "source": [
    "seasons.head()"
   ],
   "metadata": {
    "collapsed": false
   }
  },
  {
   "cell_type": "markdown",
   "source": [
    "Zatim s funkcijama describe i info dobijemo detaljan pregled vrijednosti i tipova podataka u tablici"
   ],
   "metadata": {
    "collapsed": false
   }
  },
  {
   "cell_type": "code",
   "execution_count": 402,
   "outputs": [
    {
     "data": {
      "text/plain": "       season      years     dayzero regionW regionX  regionY regionZ\ncount      19         19          19      19      19       19      19\nunique     19         19          19       4       7        7       6\ntop         A  1995-1996  10/30/1995    East   South  Midwest    West\nfreq        1          1           1      15       6        9      12",
      "text/html": "<div>\n<style scoped>\n    .dataframe tbody tr th:only-of-type {\n        vertical-align: middle;\n    }\n\n    .dataframe tbody tr th {\n        vertical-align: top;\n    }\n\n    .dataframe thead th {\n        text-align: right;\n    }\n</style>\n<table border=\"1\" class=\"dataframe\">\n  <thead>\n    <tr style=\"text-align: right;\">\n      <th></th>\n      <th>season</th>\n      <th>years</th>\n      <th>dayzero</th>\n      <th>regionW</th>\n      <th>regionX</th>\n      <th>regionY</th>\n      <th>regionZ</th>\n    </tr>\n  </thead>\n  <tbody>\n    <tr>\n      <th>count</th>\n      <td>19</td>\n      <td>19</td>\n      <td>19</td>\n      <td>19</td>\n      <td>19</td>\n      <td>19</td>\n      <td>19</td>\n    </tr>\n    <tr>\n      <th>unique</th>\n      <td>19</td>\n      <td>19</td>\n      <td>19</td>\n      <td>4</td>\n      <td>7</td>\n      <td>7</td>\n      <td>6</td>\n    </tr>\n    <tr>\n      <th>top</th>\n      <td>A</td>\n      <td>1995-1996</td>\n      <td>10/30/1995</td>\n      <td>East</td>\n      <td>South</td>\n      <td>Midwest</td>\n      <td>West</td>\n    </tr>\n    <tr>\n      <th>freq</th>\n      <td>1</td>\n      <td>1</td>\n      <td>1</td>\n      <td>15</td>\n      <td>6</td>\n      <td>9</td>\n      <td>12</td>\n    </tr>\n  </tbody>\n</table>\n</div>"
     },
     "execution_count": 402,
     "metadata": {},
     "output_type": "execute_result"
    }
   ],
   "source": [
    "seasons.describe()"
   ],
   "metadata": {
    "collapsed": false
   }
  },
  {
   "cell_type": "markdown",
   "source": [
    "Vidimo da za svaku godinu imamo razlicitu vrijednost, odnosno monoton raste, dakle mozemo taj stupac tablice izbrisati jer se to lako izgenerira ako bude trebalo kasnije"
   ],
   "metadata": {
    "collapsed": false
   }
  },
  {
   "cell_type": "code",
   "execution_count": 403,
   "outputs": [],
   "source": [
    "seasons.drop((['years']), axis=1, inplace=True)"
   ],
   "metadata": {
    "collapsed": false
   }
  },
  {
   "cell_type": "code",
   "execution_count": 404,
   "outputs": [
    {
     "name": "stdout",
     "output_type": "stream",
     "text": [
      "<class 'pandas.core.frame.DataFrame'>\n",
      "RangeIndex: 19 entries, 0 to 18\n",
      "Data columns (total 6 columns):\n",
      " #   Column   Non-Null Count  Dtype \n",
      "---  ------   --------------  ----- \n",
      " 0   season   19 non-null     object\n",
      " 1   dayzero  19 non-null     object\n",
      " 2   regionW  19 non-null     object\n",
      " 3   regionX  19 non-null     object\n",
      " 4   regionY  19 non-null     object\n",
      " 5   regionZ  19 non-null     object\n",
      "dtypes: object(6)\n",
      "memory usage: 1.0+ KB\n"
     ]
    }
   ],
   "source": [
    "seasons.info()"
   ],
   "metadata": {
    "collapsed": false
   }
  },
  {
   "cell_type": "markdown",
   "source": [],
   "metadata": {
    "collapsed": false
   }
  },
  {
   "cell_type": "markdown",
   "source": [
    "Nadalje treba provjeriti atribute s null vrijednostima"
   ],
   "metadata": {
    "collapsed": false
   }
  },
  {
   "cell_type": "code",
   "execution_count": 405,
   "outputs": [
    {
     "data": {
      "text/plain": "season     0\ndayzero    0\nregionW    0\nregionX    0\nregionY    0\nregionZ    0\ndtype: int64"
     },
     "execution_count": 405,
     "metadata": {},
     "output_type": "execute_result"
    }
   ],
   "source": [
    "seasons.isna().sum()"
   ],
   "metadata": {
    "collapsed": false
   }
  },
  {
   "cell_type": "markdown",
   "source": [
    "S obzirom da je jednostavniji rad s int podacima, gdje to možemo zamijenit ćemo, kao na primjer season i region, a dayezero postavit ćemo na datetime"
   ],
   "metadata": {
    "collapsed": false
   }
  },
  {
   "cell_type": "code",
   "execution_count": 406,
   "outputs": [
    {
     "data": {
      "text/plain": "   season     dayzero  regionW  regionX  regionY  regionZ\n0       0  10/30/1995        0        1        4        5\n1       1  10/28/1996        0        4        1        5\n2       2  10/27/1997        0        5        1        6\n3       3  10/26/1998        0        1        6        5\n4       4  11/01/1999        1        5        0        6",
      "text/html": "<div>\n<style scoped>\n    .dataframe tbody tr th:only-of-type {\n        vertical-align: middle;\n    }\n\n    .dataframe tbody tr th {\n        vertical-align: top;\n    }\n\n    .dataframe thead th {\n        text-align: right;\n    }\n</style>\n<table border=\"1\" class=\"dataframe\">\n  <thead>\n    <tr style=\"text-align: right;\">\n      <th></th>\n      <th>season</th>\n      <th>dayzero</th>\n      <th>regionW</th>\n      <th>regionX</th>\n      <th>regionY</th>\n      <th>regionZ</th>\n    </tr>\n  </thead>\n  <tbody>\n    <tr>\n      <th>0</th>\n      <td>0</td>\n      <td>10/30/1995</td>\n      <td>0</td>\n      <td>1</td>\n      <td>4</td>\n      <td>5</td>\n    </tr>\n    <tr>\n      <th>1</th>\n      <td>1</td>\n      <td>10/28/1996</td>\n      <td>0</td>\n      <td>4</td>\n      <td>1</td>\n      <td>5</td>\n    </tr>\n    <tr>\n      <th>2</th>\n      <td>2</td>\n      <td>10/27/1997</td>\n      <td>0</td>\n      <td>5</td>\n      <td>1</td>\n      <td>6</td>\n    </tr>\n    <tr>\n      <th>3</th>\n      <td>3</td>\n      <td>10/26/1998</td>\n      <td>0</td>\n      <td>1</td>\n      <td>6</td>\n      <td>5</td>\n    </tr>\n    <tr>\n      <th>4</th>\n      <td>4</td>\n      <td>11/01/1999</td>\n      <td>1</td>\n      <td>5</td>\n      <td>0</td>\n      <td>6</td>\n    </tr>\n  </tbody>\n</table>\n</div>"
     },
     "execution_count": 406,
     "metadata": {},
     "output_type": "execute_result"
    }
   ],
   "source": [
    "mapping_for_season = {season: i for i, season in enumerate(pd.unique(seasons[['season']].values.ravel('K')))}\n",
    "mapping_for_region = {region: i for i, region in\n",
    "              enumerate(pd.unique(seasons[['regionW', 'regionX', 'regionY', 'regionZ']].values.ravel('K')))}\n",
    "seasons['season'] = seasons['season'].map(mapping_for_season)\n",
    "seasons['regionW'] = seasons['regionW'].map(mapping_for_region)\n",
    "seasons['regionX'] = seasons['regionX'].map(mapping_for_region)\n",
    "seasons['regionY'] = seasons['regionY'].map(mapping_for_region)\n",
    "seasons['regionZ'] = seasons['regionZ'].map(mapping_for_region)\n",
    "\n",
    "seasons.head()"
   ],
   "metadata": {
    "collapsed": false
   }
  },
  {
   "cell_type": "code",
   "execution_count": 407,
   "outputs": [],
   "source": [
    "seasons['dayzero'] = pd.to_datetime(seasons['dayzero'])"
   ],
   "metadata": {
    "collapsed": false
   }
  },
  {
   "cell_type": "code",
   "execution_count": 408,
   "outputs": [
    {
     "name": "stdout",
     "output_type": "stream",
     "text": [
      "<class 'pandas.core.frame.DataFrame'>\n",
      "RangeIndex: 19 entries, 0 to 18\n",
      "Data columns (total 6 columns):\n",
      " #   Column   Non-Null Count  Dtype         \n",
      "---  ------   --------------  -----         \n",
      " 0   season   19 non-null     int64         \n",
      " 1   dayzero  19 non-null     datetime64[ns]\n",
      " 2   regionW  19 non-null     int64         \n",
      " 3   regionX  19 non-null     int64         \n",
      " 4   regionY  19 non-null     int64         \n",
      " 5   regionZ  19 non-null     int64         \n",
      "dtypes: datetime64[ns](1), int64(5)\n",
      "memory usage: 1.0 KB\n"
     ]
    }
   ],
   "source": [
    "seasons.info()"
   ],
   "metadata": {
    "collapsed": false
   }
  },
  {
   "cell_type": "markdown",
   "source": [
    "Vidimo da se dType promijenio u int, a za dayzero u datetime"
   ],
   "metadata": {
    "collapsed": false
   }
  },
  {
   "cell_type": "markdown",
   "source": [
    "## Tablica teams"
   ],
   "metadata": {
    "collapsed": false
   }
  },
  {
   "cell_type": "code",
   "execution_count": 409,
   "outputs": [],
   "source": [
    "teams = pd.read_csv('teams.csv')"
   ],
   "metadata": {
    "collapsed": false
   }
  },
  {
   "cell_type": "code",
   "execution_count": 410,
   "outputs": [
    {
     "data": {
      "text/plain": "(356, 2)"
     },
     "execution_count": 410,
     "metadata": {},
     "output_type": "execute_result"
    }
   ],
   "source": [
    "teams.shape"
   ],
   "metadata": {
    "collapsed": false
   }
  },
  {
   "cell_type": "code",
   "execution_count": 411,
   "outputs": [
    {
     "data": {
      "text/plain": "    id         name\n0  501  Abilene Chr\n1  502    Air Force\n2  503        Akron\n3  504      Alabama\n4  505  Alabama A&M",
      "text/html": "<div>\n<style scoped>\n    .dataframe tbody tr th:only-of-type {\n        vertical-align: middle;\n    }\n\n    .dataframe tbody tr th {\n        vertical-align: top;\n    }\n\n    .dataframe thead th {\n        text-align: right;\n    }\n</style>\n<table border=\"1\" class=\"dataframe\">\n  <thead>\n    <tr style=\"text-align: right;\">\n      <th></th>\n      <th>id</th>\n      <th>name</th>\n    </tr>\n  </thead>\n  <tbody>\n    <tr>\n      <th>0</th>\n      <td>501</td>\n      <td>Abilene Chr</td>\n    </tr>\n    <tr>\n      <th>1</th>\n      <td>502</td>\n      <td>Air Force</td>\n    </tr>\n    <tr>\n      <th>2</th>\n      <td>503</td>\n      <td>Akron</td>\n    </tr>\n    <tr>\n      <th>3</th>\n      <td>504</td>\n      <td>Alabama</td>\n    </tr>\n    <tr>\n      <th>4</th>\n      <td>505</td>\n      <td>Alabama A&amp;M</td>\n    </tr>\n  </tbody>\n</table>\n</div>"
     },
     "execution_count": 411,
     "metadata": {},
     "output_type": "execute_result"
    }
   ],
   "source": [
    "teams.head()"
   ],
   "metadata": {
    "collapsed": false
   }
  },
  {
   "cell_type": "code",
   "execution_count": 412,
   "outputs": [
    {
     "data": {
      "text/plain": "               id\ncount  356.000000\nmean   678.500000\nstd    102.912584\nmin    501.000000\n25%    589.750000\n50%    678.500000\n75%    767.250000\nmax    856.000000",
      "text/html": "<div>\n<style scoped>\n    .dataframe tbody tr th:only-of-type {\n        vertical-align: middle;\n    }\n\n    .dataframe tbody tr th {\n        vertical-align: top;\n    }\n\n    .dataframe thead th {\n        text-align: right;\n    }\n</style>\n<table border=\"1\" class=\"dataframe\">\n  <thead>\n    <tr style=\"text-align: right;\">\n      <th></th>\n      <th>id</th>\n    </tr>\n  </thead>\n  <tbody>\n    <tr>\n      <th>count</th>\n      <td>356.000000</td>\n    </tr>\n    <tr>\n      <th>mean</th>\n      <td>678.500000</td>\n    </tr>\n    <tr>\n      <th>std</th>\n      <td>102.912584</td>\n    </tr>\n    <tr>\n      <th>min</th>\n      <td>501.000000</td>\n    </tr>\n    <tr>\n      <th>25%</th>\n      <td>589.750000</td>\n    </tr>\n    <tr>\n      <th>50%</th>\n      <td>678.500000</td>\n    </tr>\n    <tr>\n      <th>75%</th>\n      <td>767.250000</td>\n    </tr>\n    <tr>\n      <th>max</th>\n      <td>856.000000</td>\n    </tr>\n  </tbody>\n</table>\n</div>"
     },
     "execution_count": 412,
     "metadata": {},
     "output_type": "execute_result"
    }
   ],
   "source": [
    "teams.describe()"
   ],
   "metadata": {
    "collapsed": false
   }
  },
  {
   "cell_type": "code",
   "execution_count": 413,
   "outputs": [
    {
     "data": {
      "text/plain": "id      0\nname    0\ndtype: int64"
     },
     "execution_count": 413,
     "metadata": {},
     "output_type": "execute_result"
    }
   ],
   "source": [
    "teams.isna().sum()"
   ],
   "metadata": {
    "collapsed": false
   }
  },
  {
   "cell_type": "code",
   "execution_count": 414,
   "outputs": [
    {
     "data": {
      "text/plain": "id      356\nname    356\ndtype: int64"
     },
     "execution_count": 414,
     "metadata": {},
     "output_type": "execute_result"
    }
   ],
   "source": [
    "teams.nunique()"
   ],
   "metadata": {
    "collapsed": false
   }
  },
  {
   "cell_type": "markdown",
   "source": [
    "Kao što je i ocekivano tablica teams ima sve unique vrijednosti jer su id-jevi i imena timova unikatna, no nećemo brisati id-jeve jer će nam trebati kasnije za povezivanje"
   ],
   "metadata": {
    "collapsed": false
   }
  },
  {
   "cell_type": "markdown",
   "source": [
    "## Tablica tourney_results"
   ],
   "metadata": {
    "collapsed": false
   }
  },
  {
   "cell_type": "code",
   "execution_count": 415,
   "outputs": [],
   "source": [
    "tourney_results = pd.read_csv('tourney_results.csv')"
   ],
   "metadata": {
    "collapsed": false
   }
  },
  {
   "cell_type": "code",
   "execution_count": 416,
   "outputs": [
    {
     "data": {
      "text/plain": "(1156, 7)"
     },
     "execution_count": 416,
     "metadata": {},
     "output_type": "execute_result"
    }
   ],
   "source": [
    "tourney_results.shape"
   ],
   "metadata": {
    "collapsed": false
   }
  },
  {
   "cell_type": "code",
   "execution_count": 417,
   "outputs": [
    {
     "data": {
      "text/plain": "  season  daynum  wteam  wscore  lteam  lscore  numot\n0      A     136    515      86    729      80    NaN\n1      A     136    559      68    555      59    NaN\n2      A     136    576      75    666      63    NaN\n3      A     136    581      75    577      60    NaN\n4      A     136    604      81    551      74    NaN",
      "text/html": "<div>\n<style scoped>\n    .dataframe tbody tr th:only-of-type {\n        vertical-align: middle;\n    }\n\n    .dataframe tbody tr th {\n        vertical-align: top;\n    }\n\n    .dataframe thead th {\n        text-align: right;\n    }\n</style>\n<table border=\"1\" class=\"dataframe\">\n  <thead>\n    <tr style=\"text-align: right;\">\n      <th></th>\n      <th>season</th>\n      <th>daynum</th>\n      <th>wteam</th>\n      <th>wscore</th>\n      <th>lteam</th>\n      <th>lscore</th>\n      <th>numot</th>\n    </tr>\n  </thead>\n  <tbody>\n    <tr>\n      <th>0</th>\n      <td>A</td>\n      <td>136</td>\n      <td>515</td>\n      <td>86</td>\n      <td>729</td>\n      <td>80</td>\n      <td>NaN</td>\n    </tr>\n    <tr>\n      <th>1</th>\n      <td>A</td>\n      <td>136</td>\n      <td>559</td>\n      <td>68</td>\n      <td>555</td>\n      <td>59</td>\n      <td>NaN</td>\n    </tr>\n    <tr>\n      <th>2</th>\n      <td>A</td>\n      <td>136</td>\n      <td>576</td>\n      <td>75</td>\n      <td>666</td>\n      <td>63</td>\n      <td>NaN</td>\n    </tr>\n    <tr>\n      <th>3</th>\n      <td>A</td>\n      <td>136</td>\n      <td>581</td>\n      <td>75</td>\n      <td>577</td>\n      <td>60</td>\n      <td>NaN</td>\n    </tr>\n    <tr>\n      <th>4</th>\n      <td>A</td>\n      <td>136</td>\n      <td>604</td>\n      <td>81</td>\n      <td>551</td>\n      <td>74</td>\n      <td>NaN</td>\n    </tr>\n  </tbody>\n</table>\n</div>"
     },
     "execution_count": 417,
     "metadata": {},
     "output_type": "execute_result"
    }
   ],
   "source": [
    "tourney_results.head()"
   ],
   "metadata": {
    "collapsed": false
   }
  },
  {
   "cell_type": "code",
   "execution_count": 418,
   "outputs": [
    {
     "data": {
      "text/plain": "            daynum        wteam       wscore        lteam       lscore  \\\ncount  1156.000000  1156.000000  1156.000000  1156.000000  1156.000000   \nmean    139.143599   682.515571    75.549308   686.699827    63.667820   \nstd       4.213580    98.684397    10.941410   103.201450    10.567058   \nmin     134.000000   504.000000    43.000000   502.000000    29.000000   \n25%     136.000000   606.000000    68.000000   603.750000    57.000000   \n50%     137.000000   671.000000    75.000000   681.500000    63.000000   \n75%     139.000000   783.000000    82.000000   783.000000    70.000000   \nmax     154.000000   853.000000   121.000000   853.000000   105.000000   \n\n            numot  \ncount  585.000000  \nmean     0.075214  \nstd      0.311565  \nmin      0.000000  \n25%      0.000000  \n50%      0.000000  \n75%      0.000000  \nmax      2.000000  ",
      "text/html": "<div>\n<style scoped>\n    .dataframe tbody tr th:only-of-type {\n        vertical-align: middle;\n    }\n\n    .dataframe tbody tr th {\n        vertical-align: top;\n    }\n\n    .dataframe thead th {\n        text-align: right;\n    }\n</style>\n<table border=\"1\" class=\"dataframe\">\n  <thead>\n    <tr style=\"text-align: right;\">\n      <th></th>\n      <th>daynum</th>\n      <th>wteam</th>\n      <th>wscore</th>\n      <th>lteam</th>\n      <th>lscore</th>\n      <th>numot</th>\n    </tr>\n  </thead>\n  <tbody>\n    <tr>\n      <th>count</th>\n      <td>1156.000000</td>\n      <td>1156.000000</td>\n      <td>1156.000000</td>\n      <td>1156.000000</td>\n      <td>1156.000000</td>\n      <td>585.000000</td>\n    </tr>\n    <tr>\n      <th>mean</th>\n      <td>139.143599</td>\n      <td>682.515571</td>\n      <td>75.549308</td>\n      <td>686.699827</td>\n      <td>63.667820</td>\n      <td>0.075214</td>\n    </tr>\n    <tr>\n      <th>std</th>\n      <td>4.213580</td>\n      <td>98.684397</td>\n      <td>10.941410</td>\n      <td>103.201450</td>\n      <td>10.567058</td>\n      <td>0.311565</td>\n    </tr>\n    <tr>\n      <th>min</th>\n      <td>134.000000</td>\n      <td>504.000000</td>\n      <td>43.000000</td>\n      <td>502.000000</td>\n      <td>29.000000</td>\n      <td>0.000000</td>\n    </tr>\n    <tr>\n      <th>25%</th>\n      <td>136.000000</td>\n      <td>606.000000</td>\n      <td>68.000000</td>\n      <td>603.750000</td>\n      <td>57.000000</td>\n      <td>0.000000</td>\n    </tr>\n    <tr>\n      <th>50%</th>\n      <td>137.000000</td>\n      <td>671.000000</td>\n      <td>75.000000</td>\n      <td>681.500000</td>\n      <td>63.000000</td>\n      <td>0.000000</td>\n    </tr>\n    <tr>\n      <th>75%</th>\n      <td>139.000000</td>\n      <td>783.000000</td>\n      <td>82.000000</td>\n      <td>783.000000</td>\n      <td>70.000000</td>\n      <td>0.000000</td>\n    </tr>\n    <tr>\n      <th>max</th>\n      <td>154.000000</td>\n      <td>853.000000</td>\n      <td>121.000000</td>\n      <td>853.000000</td>\n      <td>105.000000</td>\n      <td>2.000000</td>\n    </tr>\n  </tbody>\n</table>\n</div>"
     },
     "execution_count": 418,
     "metadata": {},
     "output_type": "execute_result"
    }
   ],
   "source": [
    "tourney_results.describe()"
   ],
   "metadata": {
    "collapsed": false
   }
  },
  {
   "cell_type": "code",
   "execution_count": 419,
   "outputs": [
    {
     "name": "stdout",
     "output_type": "stream",
     "text": [
      "<class 'pandas.core.frame.DataFrame'>\n",
      "RangeIndex: 1156 entries, 0 to 1155\n",
      "Data columns (total 7 columns):\n",
      " #   Column  Non-Null Count  Dtype  \n",
      "---  ------  --------------  -----  \n",
      " 0   season  1156 non-null   object \n",
      " 1   daynum  1156 non-null   int64  \n",
      " 2   wteam   1156 non-null   int64  \n",
      " 3   wscore  1156 non-null   int64  \n",
      " 4   lteam   1156 non-null   int64  \n",
      " 5   lscore  1156 non-null   int64  \n",
      " 6   numot   585 non-null    float64\n",
      "dtypes: float64(1), int64(5), object(1)\n",
      "memory usage: 63.3+ KB\n"
     ]
    }
   ],
   "source": [
    "tourney_results.info()"
   ],
   "metadata": {
    "collapsed": false
   }
  },
  {
   "cell_type": "code",
   "execution_count": 420,
   "outputs": [
    {
     "data": {
      "text/plain": "season      0\ndaynum      0\nwteam       0\nwscore      0\nlteam       0\nlscore      0\nnumot     571\ndtype: int64"
     },
     "execution_count": 420,
     "metadata": {},
     "output_type": "execute_result"
    }
   ],
   "source": [
    "tourney_results.isna().sum()"
   ],
   "metadata": {
    "collapsed": false
   }
  },
  {
   "cell_type": "markdown",
   "source": [
    "Vidimo da stupac numot(number of extra times) je skoro u 50% slučajeva null odnosno nedefiniran, kada bismo izbacili retke gdje je numot null to ne bi bilo ispravno jer bi izgubili više od 50% zapisa, ako zamijenimo nedostajuće vrijednosti srednjom vrijednosti također ne bi bilo moguće jer je srednja vrijednost 0.07,a ovo je cjelobrojni podatak, najmanje štete nam pravi ako cijeli stupac maknemo i obrišemo jer numot nam kazuje da je utakmica bila vrlo izjednačena a to možemo vidjeti iz samog rezultat"
   ],
   "metadata": {
    "collapsed": false
   }
  },
  {
   "cell_type": "code",
   "execution_count": 421,
   "outputs": [],
   "source": [
    "tourney_results.drop((['numot']), axis=1, inplace=True)"
   ],
   "metadata": {
    "collapsed": false
   }
  },
  {
   "cell_type": "code",
   "execution_count": 422,
   "outputs": [
    {
     "data": {
      "text/plain": "  season  daynum  wteam  wscore  lteam  lscore\n0      A     136    515      86    729      80\n1      A     136    559      68    555      59\n2      A     136    576      75    666      63\n3      A     136    581      75    577      60\n4      A     136    604      81    551      74",
      "text/html": "<div>\n<style scoped>\n    .dataframe tbody tr th:only-of-type {\n        vertical-align: middle;\n    }\n\n    .dataframe tbody tr th {\n        vertical-align: top;\n    }\n\n    .dataframe thead th {\n        text-align: right;\n    }\n</style>\n<table border=\"1\" class=\"dataframe\">\n  <thead>\n    <tr style=\"text-align: right;\">\n      <th></th>\n      <th>season</th>\n      <th>daynum</th>\n      <th>wteam</th>\n      <th>wscore</th>\n      <th>lteam</th>\n      <th>lscore</th>\n    </tr>\n  </thead>\n  <tbody>\n    <tr>\n      <th>0</th>\n      <td>A</td>\n      <td>136</td>\n      <td>515</td>\n      <td>86</td>\n      <td>729</td>\n      <td>80</td>\n    </tr>\n    <tr>\n      <th>1</th>\n      <td>A</td>\n      <td>136</td>\n      <td>559</td>\n      <td>68</td>\n      <td>555</td>\n      <td>59</td>\n    </tr>\n    <tr>\n      <th>2</th>\n      <td>A</td>\n      <td>136</td>\n      <td>576</td>\n      <td>75</td>\n      <td>666</td>\n      <td>63</td>\n    </tr>\n    <tr>\n      <th>3</th>\n      <td>A</td>\n      <td>136</td>\n      <td>581</td>\n      <td>75</td>\n      <td>577</td>\n      <td>60</td>\n    </tr>\n    <tr>\n      <th>4</th>\n      <td>A</td>\n      <td>136</td>\n      <td>604</td>\n      <td>81</td>\n      <td>551</td>\n      <td>74</td>\n    </tr>\n  </tbody>\n</table>\n</div>"
     },
     "execution_count": 422,
     "metadata": {},
     "output_type": "execute_result"
    }
   ],
   "source": [
    "tourney_results.head()"
   ],
   "metadata": {
    "collapsed": false
   }
  },
  {
   "cell_type": "markdown",
   "source": [
    "Kao što smo radili u tablici seasons tako i ovdje moramo sezone mapirati kako bi bile int odnosno monotono rastući brojevi, možemo iskoristiti isti mapper"
   ],
   "metadata": {
    "collapsed": false
   }
  },
  {
   "cell_type": "code",
   "execution_count": 423,
   "outputs": [],
   "source": [
    "tourney_results['season'] = tourney_results['season'].map(mapping_for_season)"
   ],
   "metadata": {
    "collapsed": false
   }
  },
  {
   "cell_type": "code",
   "execution_count": 424,
   "outputs": [
    {
     "data": {
      "text/plain": "   season  daynum  wteam  wscore  lteam  lscore\n0       0     136    515      86    729      80\n1       0     136    559      68    555      59\n2       0     136    576      75    666      63\n3       0     136    581      75    577      60\n4       0     136    604      81    551      74",
      "text/html": "<div>\n<style scoped>\n    .dataframe tbody tr th:only-of-type {\n        vertical-align: middle;\n    }\n\n    .dataframe tbody tr th {\n        vertical-align: top;\n    }\n\n    .dataframe thead th {\n        text-align: right;\n    }\n</style>\n<table border=\"1\" class=\"dataframe\">\n  <thead>\n    <tr style=\"text-align: right;\">\n      <th></th>\n      <th>season</th>\n      <th>daynum</th>\n      <th>wteam</th>\n      <th>wscore</th>\n      <th>lteam</th>\n      <th>lscore</th>\n    </tr>\n  </thead>\n  <tbody>\n    <tr>\n      <th>0</th>\n      <td>0</td>\n      <td>136</td>\n      <td>515</td>\n      <td>86</td>\n      <td>729</td>\n      <td>80</td>\n    </tr>\n    <tr>\n      <th>1</th>\n      <td>0</td>\n      <td>136</td>\n      <td>559</td>\n      <td>68</td>\n      <td>555</td>\n      <td>59</td>\n    </tr>\n    <tr>\n      <th>2</th>\n      <td>0</td>\n      <td>136</td>\n      <td>576</td>\n      <td>75</td>\n      <td>666</td>\n      <td>63</td>\n    </tr>\n    <tr>\n      <th>3</th>\n      <td>0</td>\n      <td>136</td>\n      <td>581</td>\n      <td>75</td>\n      <td>577</td>\n      <td>60</td>\n    </tr>\n    <tr>\n      <th>4</th>\n      <td>0</td>\n      <td>136</td>\n      <td>604</td>\n      <td>81</td>\n      <td>551</td>\n      <td>74</td>\n    </tr>\n  </tbody>\n</table>\n</div>"
     },
     "execution_count": 424,
     "metadata": {},
     "output_type": "execute_result"
    }
   ],
   "source": [
    "tourney_results.head()"
   ],
   "metadata": {
    "collapsed": false
   }
  },
  {
   "cell_type": "code",
   "execution_count": 425,
   "outputs": [
    {
     "data": {
      "text/plain": "season     18\ndaynum     12\nwteam     155\nwscore     67\nlteam     258\nlscore     66\ndtype: int64"
     },
     "execution_count": 425,
     "metadata": {},
     "output_type": "execute_result"
    }
   ],
   "source": [
    "tourney_results.nunique()"
   ],
   "metadata": {
    "collapsed": false
   }
  },
  {
   "cell_type": "markdown",
   "source": [
    "## Tablica tourney_seeds"
   ],
   "metadata": {
    "collapsed": false
   }
  },
  {
   "cell_type": "code",
   "execution_count": 426,
   "outputs": [],
   "source": [
    "tourney_seeds = pd.read_csv('tourney_seeds.csv')"
   ],
   "metadata": {
    "collapsed": false
   }
  },
  {
   "cell_type": "code",
   "execution_count": 427,
   "outputs": [
    {
     "data": {
      "text/plain": "(1242, 3)"
     },
     "execution_count": 427,
     "metadata": {},
     "output_type": "execute_result"
    }
   ],
   "source": [
    "tourney_seeds.shape"
   ],
   "metadata": {
    "collapsed": false
   }
  },
  {
   "cell_type": "code",
   "execution_count": 428,
   "outputs": [
    {
     "data": {
      "text/plain": "  season seed  team\n0      A  W01   663\n1      A  W02   603\n2      A  W03   796\n3      A  W04   660\n4      A  W05   729",
      "text/html": "<div>\n<style scoped>\n    .dataframe tbody tr th:only-of-type {\n        vertical-align: middle;\n    }\n\n    .dataframe tbody tr th {\n        vertical-align: top;\n    }\n\n    .dataframe thead th {\n        text-align: right;\n    }\n</style>\n<table border=\"1\" class=\"dataframe\">\n  <thead>\n    <tr style=\"text-align: right;\">\n      <th></th>\n      <th>season</th>\n      <th>seed</th>\n      <th>team</th>\n    </tr>\n  </thead>\n  <tbody>\n    <tr>\n      <th>0</th>\n      <td>A</td>\n      <td>W01</td>\n      <td>663</td>\n    </tr>\n    <tr>\n      <th>1</th>\n      <td>A</td>\n      <td>W02</td>\n      <td>603</td>\n    </tr>\n    <tr>\n      <th>2</th>\n      <td>A</td>\n      <td>W03</td>\n      <td>796</td>\n    </tr>\n    <tr>\n      <th>3</th>\n      <td>A</td>\n      <td>W04</td>\n      <td>660</td>\n    </tr>\n    <tr>\n      <th>4</th>\n      <td>A</td>\n      <td>W05</td>\n      <td>729</td>\n    </tr>\n  </tbody>\n</table>\n</div>"
     },
     "execution_count": 428,
     "metadata": {},
     "output_type": "execute_result"
    }
   ],
   "source": [
    "tourney_seeds.head()"
   ],
   "metadata": {
    "collapsed": false
   }
  },
  {
   "cell_type": "code",
   "execution_count": 429,
   "outputs": [
    {
     "data": {
      "text/plain": "              team\ncount  1242.000000\nmean    685.844605\nstd     103.133122\nmin     502.000000\n25%     603.000000\n50%     680.000000\n75%     783.000000\nmax     853.000000",
      "text/html": "<div>\n<style scoped>\n    .dataframe tbody tr th:only-of-type {\n        vertical-align: middle;\n    }\n\n    .dataframe tbody tr th {\n        vertical-align: top;\n    }\n\n    .dataframe thead th {\n        text-align: right;\n    }\n</style>\n<table border=\"1\" class=\"dataframe\">\n  <thead>\n    <tr style=\"text-align: right;\">\n      <th></th>\n      <th>team</th>\n    </tr>\n  </thead>\n  <tbody>\n    <tr>\n      <th>count</th>\n      <td>1242.000000</td>\n    </tr>\n    <tr>\n      <th>mean</th>\n      <td>685.844605</td>\n    </tr>\n    <tr>\n      <th>std</th>\n      <td>103.133122</td>\n    </tr>\n    <tr>\n      <th>min</th>\n      <td>502.000000</td>\n    </tr>\n    <tr>\n      <th>25%</th>\n      <td>603.000000</td>\n    </tr>\n    <tr>\n      <th>50%</th>\n      <td>680.000000</td>\n    </tr>\n    <tr>\n      <th>75%</th>\n      <td>783.000000</td>\n    </tr>\n    <tr>\n      <th>max</th>\n      <td>853.000000</td>\n    </tr>\n  </tbody>\n</table>\n</div>"
     },
     "execution_count": 429,
     "metadata": {},
     "output_type": "execute_result"
    }
   ],
   "source": [
    "tourney_seeds.describe()"
   ],
   "metadata": {
    "collapsed": false
   }
  },
  {
   "cell_type": "markdown",
   "source": [
    "Ovdje također mapiramo atribut season s istim mapperom što smo već koristili za season stupac"
   ],
   "metadata": {
    "collapsed": false
   }
  },
  {
   "cell_type": "code",
   "execution_count": 430,
   "outputs": [],
   "source": [
    "tourney_seeds['season'] = tourney_seeds['season'].map(mapping_for_season)"
   ],
   "metadata": {
    "collapsed": false
   }
  },
  {
   "cell_type": "code",
   "execution_count": 431,
   "outputs": [
    {
     "data": {
      "text/plain": "   season seed  team\n0       0  W01   663\n1       0  W02   603\n2       0  W03   796\n3       0  W04   660\n4       0  W05   729",
      "text/html": "<div>\n<style scoped>\n    .dataframe tbody tr th:only-of-type {\n        vertical-align: middle;\n    }\n\n    .dataframe tbody tr th {\n        vertical-align: top;\n    }\n\n    .dataframe thead th {\n        text-align: right;\n    }\n</style>\n<table border=\"1\" class=\"dataframe\">\n  <thead>\n    <tr style=\"text-align: right;\">\n      <th></th>\n      <th>season</th>\n      <th>seed</th>\n      <th>team</th>\n    </tr>\n  </thead>\n  <tbody>\n    <tr>\n      <th>0</th>\n      <td>0</td>\n      <td>W01</td>\n      <td>663</td>\n    </tr>\n    <tr>\n      <th>1</th>\n      <td>0</td>\n      <td>W02</td>\n      <td>603</td>\n    </tr>\n    <tr>\n      <th>2</th>\n      <td>0</td>\n      <td>W03</td>\n      <td>796</td>\n    </tr>\n    <tr>\n      <th>3</th>\n      <td>0</td>\n      <td>W04</td>\n      <td>660</td>\n    </tr>\n    <tr>\n      <th>4</th>\n      <td>0</td>\n      <td>W05</td>\n      <td>729</td>\n    </tr>\n  </tbody>\n</table>\n</div>"
     },
     "execution_count": 431,
     "metadata": {},
     "output_type": "execute_result"
    }
   ],
   "source": [
    "tourney_seeds.head()"
   ],
   "metadata": {
    "collapsed": false
   }
  },
  {
   "cell_type": "code",
   "execution_count": 432,
   "outputs": [
    {
     "data": {
      "text/plain": "season    0\nseed      0\nteam      0\ndtype: int64"
     },
     "execution_count": 432,
     "metadata": {},
     "output_type": "execute_result"
    }
   ],
   "source": [
    "tourney_seeds.isna().sum()"
   ],
   "metadata": {
    "collapsed": false
   }
  },
  {
   "cell_type": "markdown",
   "source": [
    "Stupac seed se sastoji od dva dijela, dakle oznake W, E, X, Y koja označava regiju iz koje je tim, te broja 01-16 koji označava seed tima unutar te regije. Primjećujemo da bi to mogli logički razbiti u 2 stupca, seed_region i seed_placing kako bismo lakše kasnije radili klasifikaciju te ćemo promjeniti tip podatka za seed_placing u int"
   ],
   "metadata": {
    "collapsed": false
   }
  },
  {
   "cell_type": "code",
   "execution_count": 433,
   "outputs": [],
   "source": [
    "tourney_seeds['seed_region'] = tourney_seeds['seed'].str[0]\n",
    "tourney_seeds['seed_placing'] = tourney_seeds['seed'].str[1:3]\n",
    "tourney_seeds.drop((['seed']), axis=1, inplace=True)\n",
    "tourney_seeds['seed_placing'] = tourney_seeds['seed_placing'].astype(int)\n"
   ],
   "metadata": {
    "collapsed": false
   }
  },
  {
   "cell_type": "code",
   "execution_count": 434,
   "outputs": [
    {
     "data": {
      "text/plain": "   season  team seed_region  seed_placing\n0       0   663           W             1\n1       0   603           W             2\n2       0   796           W             3\n3       0   660           W             4\n4       0   729           W             5",
      "text/html": "<div>\n<style scoped>\n    .dataframe tbody tr th:only-of-type {\n        vertical-align: middle;\n    }\n\n    .dataframe tbody tr th {\n        vertical-align: top;\n    }\n\n    .dataframe thead th {\n        text-align: right;\n    }\n</style>\n<table border=\"1\" class=\"dataframe\">\n  <thead>\n    <tr style=\"text-align: right;\">\n      <th></th>\n      <th>season</th>\n      <th>team</th>\n      <th>seed_region</th>\n      <th>seed_placing</th>\n    </tr>\n  </thead>\n  <tbody>\n    <tr>\n      <th>0</th>\n      <td>0</td>\n      <td>663</td>\n      <td>W</td>\n      <td>1</td>\n    </tr>\n    <tr>\n      <th>1</th>\n      <td>0</td>\n      <td>603</td>\n      <td>W</td>\n      <td>2</td>\n    </tr>\n    <tr>\n      <th>2</th>\n      <td>0</td>\n      <td>796</td>\n      <td>W</td>\n      <td>3</td>\n    </tr>\n    <tr>\n      <th>3</th>\n      <td>0</td>\n      <td>660</td>\n      <td>W</td>\n      <td>4</td>\n    </tr>\n    <tr>\n      <th>4</th>\n      <td>0</td>\n      <td>729</td>\n      <td>W</td>\n      <td>5</td>\n    </tr>\n  </tbody>\n</table>\n</div>"
     },
     "execution_count": 434,
     "metadata": {},
     "output_type": "execute_result"
    }
   ],
   "source": [
    "tourney_seeds.head()"
   ],
   "metadata": {
    "collapsed": false
   }
  },
  {
   "cell_type": "markdown",
   "source": [
    "Znamo da trebamo int tipove podataka, tako da moramno i seed_region mapirati na brojčane vrijednosti"
   ],
   "metadata": {
    "collapsed": false
   }
  },
  {
   "cell_type": "code",
   "execution_count": 435,
   "outputs": [
    {
     "data": {
      "text/plain": "   season  team  seed_region  seed_placing\n0       0   663            0             1\n1       0   603            0             2\n2       0   796            0             3\n3       0   660            0             4\n4       0   729            0             5",
      "text/html": "<div>\n<style scoped>\n    .dataframe tbody tr th:only-of-type {\n        vertical-align: middle;\n    }\n\n    .dataframe tbody tr th {\n        vertical-align: top;\n    }\n\n    .dataframe thead th {\n        text-align: right;\n    }\n</style>\n<table border=\"1\" class=\"dataframe\">\n  <thead>\n    <tr style=\"text-align: right;\">\n      <th></th>\n      <th>season</th>\n      <th>team</th>\n      <th>seed_region</th>\n      <th>seed_placing</th>\n    </tr>\n  </thead>\n  <tbody>\n    <tr>\n      <th>0</th>\n      <td>0</td>\n      <td>663</td>\n      <td>0</td>\n      <td>1</td>\n    </tr>\n    <tr>\n      <th>1</th>\n      <td>0</td>\n      <td>603</td>\n      <td>0</td>\n      <td>2</td>\n    </tr>\n    <tr>\n      <th>2</th>\n      <td>0</td>\n      <td>796</td>\n      <td>0</td>\n      <td>3</td>\n    </tr>\n    <tr>\n      <th>3</th>\n      <td>0</td>\n      <td>660</td>\n      <td>0</td>\n      <td>4</td>\n    </tr>\n    <tr>\n      <th>4</th>\n      <td>0</td>\n      <td>729</td>\n      <td>0</td>\n      <td>5</td>\n    </tr>\n  </tbody>\n</table>\n</div>"
     },
     "execution_count": 435,
     "metadata": {},
     "output_type": "execute_result"
    }
   ],
   "source": [
    "mapping_for_seed_region = {seed_region: i for i, seed_region in enumerate(pd.unique(tourney_seeds[['seed_region']].values.ravel('K')))}\n",
    "\n",
    "tourney_seeds['seed_region'] = tourney_seeds['seed_region'].map(mapping_for_seed_region)\n",
    "tourney_seeds.head()"
   ],
   "metadata": {
    "collapsed": false
   }
  },
  {
   "cell_type": "code",
   "execution_count": 436,
   "outputs": [
    {
     "data": {
      "text/plain": "season           19\nteam            262\nseed_region       4\nseed_placing     16\ndtype: int64"
     },
     "execution_count": 436,
     "metadata": {},
     "output_type": "execute_result"
    }
   ],
   "source": [
    "tourney_seeds.nunique()"
   ],
   "metadata": {
    "collapsed": false
   }
  },
  {
   "cell_type": "markdown",
   "source": [
    "## Tablica tourney_slots"
   ],
   "metadata": {
    "collapsed": false
   }
  },
  {
   "cell_type": "code",
   "execution_count": 437,
   "outputs": [],
   "source": [
    "tourney_slots = pd.read_csv('tourney_slots.csv')"
   ],
   "metadata": {
    "collapsed": false
   }
  },
  {
   "cell_type": "code",
   "execution_count": 438,
   "outputs": [
    {
     "data": {
      "text/plain": "(1223, 4)"
     },
     "execution_count": 438,
     "metadata": {},
     "output_type": "execute_result"
    }
   ],
   "source": [
    "tourney_slots.shape"
   ],
   "metadata": {
    "collapsed": false
   }
  },
  {
   "cell_type": "code",
   "execution_count": 439,
   "outputs": [
    {
     "data": {
      "text/plain": "  season  slot strongseed weakseed\n0      A  R1W1        W01      W16\n1      A  R1W2        W02      W15\n2      A  R1W3        W03      W14\n3      A  R1W4        W04      W13\n4      A  R1W5        W05      W12",
      "text/html": "<div>\n<style scoped>\n    .dataframe tbody tr th:only-of-type {\n        vertical-align: middle;\n    }\n\n    .dataframe tbody tr th {\n        vertical-align: top;\n    }\n\n    .dataframe thead th {\n        text-align: right;\n    }\n</style>\n<table border=\"1\" class=\"dataframe\">\n  <thead>\n    <tr style=\"text-align: right;\">\n      <th></th>\n      <th>season</th>\n      <th>slot</th>\n      <th>strongseed</th>\n      <th>weakseed</th>\n    </tr>\n  </thead>\n  <tbody>\n    <tr>\n      <th>0</th>\n      <td>A</td>\n      <td>R1W1</td>\n      <td>W01</td>\n      <td>W16</td>\n    </tr>\n    <tr>\n      <th>1</th>\n      <td>A</td>\n      <td>R1W2</td>\n      <td>W02</td>\n      <td>W15</td>\n    </tr>\n    <tr>\n      <th>2</th>\n      <td>A</td>\n      <td>R1W3</td>\n      <td>W03</td>\n      <td>W14</td>\n    </tr>\n    <tr>\n      <th>3</th>\n      <td>A</td>\n      <td>R1W4</td>\n      <td>W04</td>\n      <td>W13</td>\n    </tr>\n    <tr>\n      <th>4</th>\n      <td>A</td>\n      <td>R1W5</td>\n      <td>W05</td>\n      <td>W12</td>\n    </tr>\n  </tbody>\n</table>\n</div>"
     },
     "execution_count": 439,
     "metadata": {},
     "output_type": "execute_result"
    }
   ],
   "source": [
    "tourney_slots.head()"
   ],
   "metadata": {
    "collapsed": false
   }
  },
  {
   "cell_type": "code",
   "execution_count": 440,
   "outputs": [
    {
     "data": {
      "text/plain": "season        0\nslot          0\nstrongseed    0\nweakseed      0\ndtype: int64"
     },
     "execution_count": 440,
     "metadata": {},
     "output_type": "execute_result"
    }
   ],
   "source": [
    "tourney_slots.isna().sum()"
   ],
   "metadata": {
    "collapsed": false
   }
  },
  {
   "cell_type": "code",
   "execution_count": 441,
   "outputs": [
    {
     "data": {
      "text/plain": "   season  slot strongseed weakseed\n0       0  R1W1        W01      W16\n1       0  R1W2        W02      W15\n2       0  R1W3        W03      W14\n3       0  R1W4        W04      W13\n4       0  R1W5        W05      W12",
      "text/html": "<div>\n<style scoped>\n    .dataframe tbody tr th:only-of-type {\n        vertical-align: middle;\n    }\n\n    .dataframe tbody tr th {\n        vertical-align: top;\n    }\n\n    .dataframe thead th {\n        text-align: right;\n    }\n</style>\n<table border=\"1\" class=\"dataframe\">\n  <thead>\n    <tr style=\"text-align: right;\">\n      <th></th>\n      <th>season</th>\n      <th>slot</th>\n      <th>strongseed</th>\n      <th>weakseed</th>\n    </tr>\n  </thead>\n  <tbody>\n    <tr>\n      <th>0</th>\n      <td>0</td>\n      <td>R1W1</td>\n      <td>W01</td>\n      <td>W16</td>\n    </tr>\n    <tr>\n      <th>1</th>\n      <td>0</td>\n      <td>R1W2</td>\n      <td>W02</td>\n      <td>W15</td>\n    </tr>\n    <tr>\n      <th>2</th>\n      <td>0</td>\n      <td>R1W3</td>\n      <td>W03</td>\n      <td>W14</td>\n    </tr>\n    <tr>\n      <th>3</th>\n      <td>0</td>\n      <td>R1W4</td>\n      <td>W04</td>\n      <td>W13</td>\n    </tr>\n    <tr>\n      <th>4</th>\n      <td>0</td>\n      <td>R1W5</td>\n      <td>W05</td>\n      <td>W12</td>\n    </tr>\n  </tbody>\n</table>\n</div>"
     },
     "execution_count": 441,
     "metadata": {},
     "output_type": "execute_result"
    }
   ],
   "source": [
    "tourney_slots['season'] = tourney_slots['season'].map(mapping_for_season)\n",
    "tourney_slots.head()"
   ],
   "metadata": {
    "collapsed": false
   }
  },
  {
   "cell_type": "markdown",
   "source": [
    "Sada ćemo iz stupca slot dobiti stupac round koji će predstavljati rundu turnira jer R1 znači prva runda, R2 druga itd.."
   ],
   "metadata": {
    "collapsed": false
   }
  },
  {
   "cell_type": "code",
   "execution_count": 442,
   "outputs": [
    {
     "data": {
      "text/plain": "   season  slot strongseed weakseed round\n0       0  R1W1        W01      W16     1\n1       0  R1W2        W02      W15     1\n2       0  R1W3        W03      W14     1\n3       0  R1W4        W04      W13     1\n4       0  R1W5        W05      W12     1",
      "text/html": "<div>\n<style scoped>\n    .dataframe tbody tr th:only-of-type {\n        vertical-align: middle;\n    }\n\n    .dataframe tbody tr th {\n        vertical-align: top;\n    }\n\n    .dataframe thead th {\n        text-align: right;\n    }\n</style>\n<table border=\"1\" class=\"dataframe\">\n  <thead>\n    <tr style=\"text-align: right;\">\n      <th></th>\n      <th>season</th>\n      <th>slot</th>\n      <th>strongseed</th>\n      <th>weakseed</th>\n      <th>round</th>\n    </tr>\n  </thead>\n  <tbody>\n    <tr>\n      <th>0</th>\n      <td>0</td>\n      <td>R1W1</td>\n      <td>W01</td>\n      <td>W16</td>\n      <td>1</td>\n    </tr>\n    <tr>\n      <th>1</th>\n      <td>0</td>\n      <td>R1W2</td>\n      <td>W02</td>\n      <td>W15</td>\n      <td>1</td>\n    </tr>\n    <tr>\n      <th>2</th>\n      <td>0</td>\n      <td>R1W3</td>\n      <td>W03</td>\n      <td>W14</td>\n      <td>1</td>\n    </tr>\n    <tr>\n      <th>3</th>\n      <td>0</td>\n      <td>R1W4</td>\n      <td>W04</td>\n      <td>W13</td>\n      <td>1</td>\n    </tr>\n    <tr>\n      <th>4</th>\n      <td>0</td>\n      <td>R1W5</td>\n      <td>W05</td>\n      <td>W12</td>\n      <td>1</td>\n    </tr>\n  </tbody>\n</table>\n</div>"
     },
     "execution_count": 442,
     "metadata": {},
     "output_type": "execute_result"
    }
   ],
   "source": [
    "tourney_slots['round'] = tourney_slots['slot'].str[1:2]\n",
    "tourney_slots.head()"
   ],
   "metadata": {
    "collapsed": false
   }
  },
  {
   "cell_type": "markdown",
   "source": [
    "S obzirom da se u polufinalu i finalu mijenja format zapisa, odnosno nije vise R5W4 npr nego je R5WZ i za finale R6CH, ne možemo razdvojiti stupce strongseed i weakseed da dobijemo favorita i regiju i ne možemo iz slota dobiti favorita također"
   ],
   "metadata": {
    "collapsed": false
   }
  },
  {
   "cell_type": "markdown",
   "source": [
    "## Tablica regular_season_results"
   ],
   "metadata": {
    "collapsed": false
   }
  },
  {
   "cell_type": "code",
   "execution_count": 443,
   "outputs": [],
   "source": [
    "regular_season_results = pd.read_csv('regular_season_results.csv')"
   ],
   "metadata": {
    "collapsed": false
   }
  },
  {
   "cell_type": "code",
   "execution_count": 444,
   "outputs": [
    {
     "data": {
      "text/plain": "(91224, 8)"
     },
     "execution_count": 444,
     "metadata": {},
     "output_type": "execute_result"
    }
   ],
   "source": [
    "regular_season_results.shape"
   ],
   "metadata": {
    "collapsed": false
   }
  },
  {
   "cell_type": "code",
   "execution_count": 445,
   "outputs": [
    {
     "data": {
      "text/plain": "  season  daynum  wteam  wscore  lteam  lscore wloc  numot\n0      A      16    511      91    647      57    H    NaN\n1      A      16    515      75    812      67    H    NaN\n2      A      16    606      87    658      67    H    NaN\n3      A      16    670      73    573      65    H    NaN\n4      A      16    721      99    632      68    H    NaN",
      "text/html": "<div>\n<style scoped>\n    .dataframe tbody tr th:only-of-type {\n        vertical-align: middle;\n    }\n\n    .dataframe tbody tr th {\n        vertical-align: top;\n    }\n\n    .dataframe thead th {\n        text-align: right;\n    }\n</style>\n<table border=\"1\" class=\"dataframe\">\n  <thead>\n    <tr style=\"text-align: right;\">\n      <th></th>\n      <th>season</th>\n      <th>daynum</th>\n      <th>wteam</th>\n      <th>wscore</th>\n      <th>lteam</th>\n      <th>lscore</th>\n      <th>wloc</th>\n      <th>numot</th>\n    </tr>\n  </thead>\n  <tbody>\n    <tr>\n      <th>0</th>\n      <td>A</td>\n      <td>16</td>\n      <td>511</td>\n      <td>91</td>\n      <td>647</td>\n      <td>57</td>\n      <td>H</td>\n      <td>NaN</td>\n    </tr>\n    <tr>\n      <th>1</th>\n      <td>A</td>\n      <td>16</td>\n      <td>515</td>\n      <td>75</td>\n      <td>812</td>\n      <td>67</td>\n      <td>H</td>\n      <td>NaN</td>\n    </tr>\n    <tr>\n      <th>2</th>\n      <td>A</td>\n      <td>16</td>\n      <td>606</td>\n      <td>87</td>\n      <td>658</td>\n      <td>67</td>\n      <td>H</td>\n      <td>NaN</td>\n    </tr>\n    <tr>\n      <th>3</th>\n      <td>A</td>\n      <td>16</td>\n      <td>670</td>\n      <td>73</td>\n      <td>573</td>\n      <td>65</td>\n      <td>H</td>\n      <td>NaN</td>\n    </tr>\n    <tr>\n      <th>4</th>\n      <td>A</td>\n      <td>16</td>\n      <td>721</td>\n      <td>99</td>\n      <td>632</td>\n      <td>68</td>\n      <td>H</td>\n      <td>NaN</td>\n    </tr>\n  </tbody>\n</table>\n</div>"
     },
     "execution_count": 445,
     "metadata": {},
     "output_type": "execute_result"
    }
   ],
   "source": [
    "regular_season_results.head()"
   ],
   "metadata": {
    "collapsed": false
   }
  },
  {
   "cell_type": "code",
   "execution_count": 446,
   "outputs": [
    {
     "data": {
      "text/plain": "             daynum         wteam        wscore         lteam        lscore  \\\ncount  91224.000000  91224.000000  91224.000000  91224.000000  91224.000000   \nmean      73.410133    680.981058     75.370440    677.047400     63.208860   \nstd       34.210997    103.099502     11.408528    102.950054     10.940295   \nmin        0.000000    501.000000     34.000000    501.000000     20.000000   \n25%       44.000000    592.000000     68.000000    587.000000     56.000000   \n50%       75.000000    678.000000     75.000000    675.000000     63.000000   \n75%      103.000000    772.000000     83.000000    768.000000     70.000000   \nmax      133.000000    856.000000    153.000000    856.000000    140.000000   \n\n              numot  \ncount  51333.000000  \nmean       0.072000  \nstd        0.313278  \nmin        0.000000  \n25%        0.000000  \n50%        0.000000  \n75%        0.000000  \nmax        6.000000  ",
      "text/html": "<div>\n<style scoped>\n    .dataframe tbody tr th:only-of-type {\n        vertical-align: middle;\n    }\n\n    .dataframe tbody tr th {\n        vertical-align: top;\n    }\n\n    .dataframe thead th {\n        text-align: right;\n    }\n</style>\n<table border=\"1\" class=\"dataframe\">\n  <thead>\n    <tr style=\"text-align: right;\">\n      <th></th>\n      <th>daynum</th>\n      <th>wteam</th>\n      <th>wscore</th>\n      <th>lteam</th>\n      <th>lscore</th>\n      <th>numot</th>\n    </tr>\n  </thead>\n  <tbody>\n    <tr>\n      <th>count</th>\n      <td>91224.000000</td>\n      <td>91224.000000</td>\n      <td>91224.000000</td>\n      <td>91224.000000</td>\n      <td>91224.000000</td>\n      <td>51333.000000</td>\n    </tr>\n    <tr>\n      <th>mean</th>\n      <td>73.410133</td>\n      <td>680.981058</td>\n      <td>75.370440</td>\n      <td>677.047400</td>\n      <td>63.208860</td>\n      <td>0.072000</td>\n    </tr>\n    <tr>\n      <th>std</th>\n      <td>34.210997</td>\n      <td>103.099502</td>\n      <td>11.408528</td>\n      <td>102.950054</td>\n      <td>10.940295</td>\n      <td>0.313278</td>\n    </tr>\n    <tr>\n      <th>min</th>\n      <td>0.000000</td>\n      <td>501.000000</td>\n      <td>34.000000</td>\n      <td>501.000000</td>\n      <td>20.000000</td>\n      <td>0.000000</td>\n    </tr>\n    <tr>\n      <th>25%</th>\n      <td>44.000000</td>\n      <td>592.000000</td>\n      <td>68.000000</td>\n      <td>587.000000</td>\n      <td>56.000000</td>\n      <td>0.000000</td>\n    </tr>\n    <tr>\n      <th>50%</th>\n      <td>75.000000</td>\n      <td>678.000000</td>\n      <td>75.000000</td>\n      <td>675.000000</td>\n      <td>63.000000</td>\n      <td>0.000000</td>\n    </tr>\n    <tr>\n      <th>75%</th>\n      <td>103.000000</td>\n      <td>772.000000</td>\n      <td>83.000000</td>\n      <td>768.000000</td>\n      <td>70.000000</td>\n      <td>0.000000</td>\n    </tr>\n    <tr>\n      <th>max</th>\n      <td>133.000000</td>\n      <td>856.000000</td>\n      <td>153.000000</td>\n      <td>856.000000</td>\n      <td>140.000000</td>\n      <td>6.000000</td>\n    </tr>\n  </tbody>\n</table>\n</div>"
     },
     "execution_count": 446,
     "metadata": {},
     "output_type": "execute_result"
    }
   ],
   "source": [
    "regular_season_results.describe()"
   ],
   "metadata": {
    "collapsed": false
   }
  },
  {
   "cell_type": "code",
   "execution_count": 447,
   "outputs": [
    {
     "data": {
      "text/plain": "season        0\ndaynum        0\nwteam         0\nwscore        0\nlteam         0\nlscore        0\nwloc          0\nnumot     39891\ndtype: int64"
     },
     "execution_count": 447,
     "metadata": {},
     "output_type": "execute_result"
    }
   ],
   "source": [
    "regular_season_results.isna().sum()"
   ],
   "metadata": {
    "collapsed": false
   }
  },
  {
   "cell_type": "markdown",
   "source": [
    "Mijenjamo season stupac da bude brojčana vrijednost također brišemo stupac numot"
   ],
   "metadata": {
    "collapsed": false
   }
  },
  {
   "cell_type": "code",
   "execution_count": 448,
   "outputs": [
    {
     "data": {
      "text/plain": "   season  daynum  wteam  wscore  lteam  lscore wloc\n0       0      16    511      91    647      57    H\n1       0      16    515      75    812      67    H\n2       0      16    606      87    658      67    H\n3       0      16    670      73    573      65    H\n4       0      16    721      99    632      68    H",
      "text/html": "<div>\n<style scoped>\n    .dataframe tbody tr th:only-of-type {\n        vertical-align: middle;\n    }\n\n    .dataframe tbody tr th {\n        vertical-align: top;\n    }\n\n    .dataframe thead th {\n        text-align: right;\n    }\n</style>\n<table border=\"1\" class=\"dataframe\">\n  <thead>\n    <tr style=\"text-align: right;\">\n      <th></th>\n      <th>season</th>\n      <th>daynum</th>\n      <th>wteam</th>\n      <th>wscore</th>\n      <th>lteam</th>\n      <th>lscore</th>\n      <th>wloc</th>\n    </tr>\n  </thead>\n  <tbody>\n    <tr>\n      <th>0</th>\n      <td>0</td>\n      <td>16</td>\n      <td>511</td>\n      <td>91</td>\n      <td>647</td>\n      <td>57</td>\n      <td>H</td>\n    </tr>\n    <tr>\n      <th>1</th>\n      <td>0</td>\n      <td>16</td>\n      <td>515</td>\n      <td>75</td>\n      <td>812</td>\n      <td>67</td>\n      <td>H</td>\n    </tr>\n    <tr>\n      <th>2</th>\n      <td>0</td>\n      <td>16</td>\n      <td>606</td>\n      <td>87</td>\n      <td>658</td>\n      <td>67</td>\n      <td>H</td>\n    </tr>\n    <tr>\n      <th>3</th>\n      <td>0</td>\n      <td>16</td>\n      <td>670</td>\n      <td>73</td>\n      <td>573</td>\n      <td>65</td>\n      <td>H</td>\n    </tr>\n    <tr>\n      <th>4</th>\n      <td>0</td>\n      <td>16</td>\n      <td>721</td>\n      <td>99</td>\n      <td>632</td>\n      <td>68</td>\n      <td>H</td>\n    </tr>\n  </tbody>\n</table>\n</div>"
     },
     "execution_count": 448,
     "metadata": {},
     "output_type": "execute_result"
    }
   ],
   "source": [
    "regular_season_results['season'] = regular_season_results['season'].map(mapping_for_season)\n",
    "regular_season_results.drop((['numot']), axis=1, inplace=True)\n",
    "regular_season_results.head()"
   ],
   "metadata": {
    "collapsed": false
   }
  },
  {
   "cell_type": "code",
   "execution_count": 449,
   "outputs": [
    {
     "data": {
      "text/plain": "season     19\ndaynum    134\nwteam     356\nwscore    108\nlteam     356\nlscore    104\nwloc        3\ndtype: int64"
     },
     "execution_count": 449,
     "metadata": {},
     "output_type": "execute_result"
    }
   ],
   "source": [
    "regular_season_results.nunique()"
   ],
   "metadata": {
    "collapsed": false
   }
  },
  {
   "cell_type": "markdown",
   "source": [
    "Vidimo da wloc ima samo 3 vrijednosti 'H', 'A' i 'N' što jednostavno možemo zamijeniti cjelobrojnim vrijednostima zbog klasifikacije, a za to ćemo koristiti LabelEncoder"
   ],
   "metadata": {
    "collapsed": false
   }
  },
  {
   "cell_type": "code",
   "execution_count": 450,
   "outputs": [
    {
     "data": {
      "text/plain": "   season  daynum  wteam  wscore  lteam  lscore  wloc\n0       0      16    511      91    647      57     1\n1       0      16    515      75    812      67     1\n2       0      16    606      87    658      67     1\n3       0      16    670      73    573      65     1\n4       0      16    721      99    632      68     1",
      "text/html": "<div>\n<style scoped>\n    .dataframe tbody tr th:only-of-type {\n        vertical-align: middle;\n    }\n\n    .dataframe tbody tr th {\n        vertical-align: top;\n    }\n\n    .dataframe thead th {\n        text-align: right;\n    }\n</style>\n<table border=\"1\" class=\"dataframe\">\n  <thead>\n    <tr style=\"text-align: right;\">\n      <th></th>\n      <th>season</th>\n      <th>daynum</th>\n      <th>wteam</th>\n      <th>wscore</th>\n      <th>lteam</th>\n      <th>lscore</th>\n      <th>wloc</th>\n    </tr>\n  </thead>\n  <tbody>\n    <tr>\n      <th>0</th>\n      <td>0</td>\n      <td>16</td>\n      <td>511</td>\n      <td>91</td>\n      <td>647</td>\n      <td>57</td>\n      <td>1</td>\n    </tr>\n    <tr>\n      <th>1</th>\n      <td>0</td>\n      <td>16</td>\n      <td>515</td>\n      <td>75</td>\n      <td>812</td>\n      <td>67</td>\n      <td>1</td>\n    </tr>\n    <tr>\n      <th>2</th>\n      <td>0</td>\n      <td>16</td>\n      <td>606</td>\n      <td>87</td>\n      <td>658</td>\n      <td>67</td>\n      <td>1</td>\n    </tr>\n    <tr>\n      <th>3</th>\n      <td>0</td>\n      <td>16</td>\n      <td>670</td>\n      <td>73</td>\n      <td>573</td>\n      <td>65</td>\n      <td>1</td>\n    </tr>\n    <tr>\n      <th>4</th>\n      <td>0</td>\n      <td>16</td>\n      <td>721</td>\n      <td>99</td>\n      <td>632</td>\n      <td>68</td>\n      <td>1</td>\n    </tr>\n  </tbody>\n</table>\n</div>"
     },
     "execution_count": 450,
     "metadata": {},
     "output_type": "execute_result"
    }
   ],
   "source": [
    "le = LabelEncoder()\n",
    "le.fit(regular_season_results.loc[:, 'wloc'])\n",
    "regular_season_results.loc[:, 'wloc'] = le.transform(regular_season_results.loc[:, 'wloc'])\n",
    "regular_season_results['wloc'] = regular_season_results['wloc'].astype(int)\n",
    "regular_season_results.head()"
   ],
   "metadata": {
    "collapsed": false
   }
  },
  {
   "cell_type": "code",
   "execution_count": 451,
   "outputs": [
    {
     "name": "stdout",
     "output_type": "stream",
     "text": [
      "<class 'pandas.core.frame.DataFrame'>\n",
      "RangeIndex: 91224 entries, 0 to 91223\n",
      "Data columns (total 7 columns):\n",
      " #   Column  Non-Null Count  Dtype\n",
      "---  ------  --------------  -----\n",
      " 0   season  91224 non-null  int64\n",
      " 1   daynum  91224 non-null  int64\n",
      " 2   wteam   91224 non-null  int64\n",
      " 3   wscore  91224 non-null  int64\n",
      " 4   lteam   91224 non-null  int64\n",
      " 5   lscore  91224 non-null  int64\n",
      " 6   wloc    91224 non-null  int32\n",
      "dtypes: int32(1), int64(6)\n",
      "memory usage: 4.5 MB\n"
     ]
    }
   ],
   "source": [
    "regular_season_results.info()"
   ],
   "metadata": {
    "collapsed": false
   }
  },
  {
   "cell_type": "markdown",
   "source": [
    "## Vizualizacija podataka"
   ],
   "metadata": {
    "collapsed": false
   }
  },
  {
   "cell_type": "code",
   "execution_count": 452,
   "outputs": [
    {
     "data": {
      "text/plain": "   season    dayzero  regionW  regionX  regionY  regionZ  daynum  wteam  \\\n0     0.0 1995-10-30      0.0      1.0      4.0      5.0   136.0  515.0   \n1     0.0 1995-10-30      0.0      1.0      4.0      5.0   138.0  515.0   \n2     2.0 1997-10-27      0.0      5.0      1.0      6.0   136.0  515.0   \n3     3.0 1998-10-26      0.0      1.0      6.0      5.0   136.0  515.0   \n4    12.0 2007-11-05      0.0      1.0      6.0      5.0   137.0  515.0   \n\n   wscore  lteam  lscore     id      name  \n0    86.0  729.0    80.0  515.0  Arkansas  \n1    65.0  660.0    56.0  515.0  Arkansas  \n2    74.0  698.0    65.0  515.0  Arkansas  \n3    94.0  766.0    80.0  515.0  Arkansas  \n4    86.0  625.0    72.0  515.0  Arkansas  ",
      "text/html": "<div>\n<style scoped>\n    .dataframe tbody tr th:only-of-type {\n        vertical-align: middle;\n    }\n\n    .dataframe tbody tr th {\n        vertical-align: top;\n    }\n\n    .dataframe thead th {\n        text-align: right;\n    }\n</style>\n<table border=\"1\" class=\"dataframe\">\n  <thead>\n    <tr style=\"text-align: right;\">\n      <th></th>\n      <th>season</th>\n      <th>dayzero</th>\n      <th>regionW</th>\n      <th>regionX</th>\n      <th>regionY</th>\n      <th>regionZ</th>\n      <th>daynum</th>\n      <th>wteam</th>\n      <th>wscore</th>\n      <th>lteam</th>\n      <th>lscore</th>\n      <th>id</th>\n      <th>name</th>\n    </tr>\n  </thead>\n  <tbody>\n    <tr>\n      <th>0</th>\n      <td>0.0</td>\n      <td>1995-10-30</td>\n      <td>0.0</td>\n      <td>1.0</td>\n      <td>4.0</td>\n      <td>5.0</td>\n      <td>136.0</td>\n      <td>515.0</td>\n      <td>86.0</td>\n      <td>729.0</td>\n      <td>80.0</td>\n      <td>515.0</td>\n      <td>Arkansas</td>\n    </tr>\n    <tr>\n      <th>1</th>\n      <td>0.0</td>\n      <td>1995-10-30</td>\n      <td>0.0</td>\n      <td>1.0</td>\n      <td>4.0</td>\n      <td>5.0</td>\n      <td>138.0</td>\n      <td>515.0</td>\n      <td>65.0</td>\n      <td>660.0</td>\n      <td>56.0</td>\n      <td>515.0</td>\n      <td>Arkansas</td>\n    </tr>\n    <tr>\n      <th>2</th>\n      <td>2.0</td>\n      <td>1997-10-27</td>\n      <td>0.0</td>\n      <td>5.0</td>\n      <td>1.0</td>\n      <td>6.0</td>\n      <td>136.0</td>\n      <td>515.0</td>\n      <td>74.0</td>\n      <td>698.0</td>\n      <td>65.0</td>\n      <td>515.0</td>\n      <td>Arkansas</td>\n    </tr>\n    <tr>\n      <th>3</th>\n      <td>3.0</td>\n      <td>1998-10-26</td>\n      <td>0.0</td>\n      <td>1.0</td>\n      <td>6.0</td>\n      <td>5.0</td>\n      <td>136.0</td>\n      <td>515.0</td>\n      <td>94.0</td>\n      <td>766.0</td>\n      <td>80.0</td>\n      <td>515.0</td>\n      <td>Arkansas</td>\n    </tr>\n    <tr>\n      <th>4</th>\n      <td>12.0</td>\n      <td>2007-11-05</td>\n      <td>0.0</td>\n      <td>1.0</td>\n      <td>6.0</td>\n      <td>5.0</td>\n      <td>137.0</td>\n      <td>515.0</td>\n      <td>86.0</td>\n      <td>625.0</td>\n      <td>72.0</td>\n      <td>515.0</td>\n      <td>Arkansas</td>\n    </tr>\n  </tbody>\n</table>\n</div>"
     },
     "execution_count": 452,
     "metadata": {},
     "output_type": "execute_result"
    }
   ],
   "source": [
    "X = pd.merge(seasons, tourney_results, on='season', how='outer')\n",
    "X = pd.merge(X, teams, left_on='wteam', right_on='id', how='outer')\n",
    "X.head()"
   ],
   "metadata": {
    "collapsed": false
   }
  },
  {
   "cell_type": "code",
   "execution_count": 455,
   "outputs": [
    {
     "data": {
      "text/plain": "<Figure size 640x480 with 1 Axes>",
      "image/png": "[encoded data removed]"
     },
     "metadata": {},
     "output_type": "display_data"
    }
   ],
   "source": [
    "ppg_winner = X.groupby('season')['wscore'].mean()\n",
    "ppg_loser = X.groupby('season')['lscore'].mean()\n",
    "season_values = X.groupby('season').count().index.values\n",
    "\n",
    "plt.plot(season_values, ppg_winner)\n",
    "plt.plot(season_values, ppg_loser)\n",
    "plt.xlabel('Season')\n",
    "plt.ylabel('Average Score')\n",
    "plt.title('Average Winning and Losing Scores Over Seasons')\n",
    "plt.show()"
   ],
   "metadata": {
    "collapsed": false
   }
  },
  {
   "cell_type": "markdown",
   "source": [
    "Dakle imamo linijski graf, prikazuje prosječno koliko je pobjednički i gubitnički tim imao poena po utakmici po sezoni"
   ],
   "metadata": {
    "collapsed": false
   }
  },
  {
   "cell_type": "markdown",
   "source": [],
   "metadata": {
    "collapsed": false
   }
  },
  {
   "cell_type": "code",
   "execution_count": 463,
   "outputs": [
    {
     "data": {
      "text/plain": "<Figure size 640x480 with 1 Axes>",
      "image/png": "[encoded data removed]"
     },
     "metadata": {},
     "output_type": "display_data"
    }
   ],
   "source": [
    "X =X[X.season == 17]\n",
    "wins_tour = X.groupby('wteam')['name'].count()\n",
    "ppg = X.groupby('wteam')['wscore'].mean()\n",
    "\n",
    "plt.scatter(ppg, wins_tour)\n",
    "plt.xlabel('Average Score per Game')\n",
    "plt.ylabel('Number of Wins')\n",
    "plt.title('Average Score per Game vs. Number of Wins')\n",
    "plt.show()"
   ],
   "metadata": {
    "collapsed": false
   }
  },
  {
   "cell_type": "markdown",
   "source": [
    "Prikazan je graf raspršenja na kojem vidimo prosječan broj poena svake ekipe i prosječan broj pobjeda na turniru u zadnjoj sezoni"
   ],
   "metadata": {
    "collapsed": false
   }
  },
  {
   "cell_type": "code",
   "execution_count": 492,
   "outputs": [
    {
     "data": {
      "text/plain": "<Figure size 640x480 with 1 Axes>",
      "image/png": "[encoded data removed]"
     },
     "metadata": {},
     "output_type": "display_data"
    }
   ],
   "source": [
    "X = pd.merge(seasons, tourney_results, on='season', how='outer')\n",
    "X = pd.merge(X, teams, left_on='wteam', right_on='id', how='outer')\n",
    "\n",
    "X = X[X.season > 7]\n",
    "wins = X.groupby(['wteam', 'name'])['wscore'].count().reset_index(name='count').sort_values(['count'], ascending=False).head(10)\n",
    "wins_count = wins['count']\n",
    "wins_name = wins['name']\n",
    "\n",
    "plt.bar(wins_name, wins_count, width=0.9)\n",
    "plt.xticks(rotation=90)\n",
    "plt.show()"
   ],
   "metadata": {
    "collapsed": false
   }
  },
  {
   "cell_type": "markdown",
   "source": [
    "Ovdje imamo 10 najboljih timova na turnirima zadnjih 10 godina, odnosno timovi s najviše ostvarenih pobjeda"
   ],
   "metadata": {
    "collapsed": false
   }
  },
  {
   "cell_type": "code",
   "execution_count": 489,
   "outputs": [
    {
     "data": {
      "text/plain": "<Figure size 640x480 with 1 Axes>",
      "image/png": "[encoded data removed]"
     },
     "metadata": {},
     "output_type": "display_data"
    }
   ],
   "source": [
    "plt.boxplot(tourney_results['wscore'])\n",
    "plt.show()"
   ],
   "metadata": {
    "collapsed": false
   }
  },
  {
   "cell_type": "markdown",
   "source": [
    "Prikazan je kutijasti graf zabijenih poena na turnirima pobjedničkih ekipa"
   ],
   "metadata": {
    "collapsed": false
   }
  },
  {
   "cell_type": "code",
   "execution_count": 490,
   "outputs": [
    {
     "data": {
      "text/plain": "<Figure size 640x480 with 1 Axes>",
      "image/png": "[encoded data removed]"
     },
     "metadata": {},
     "output_type": "display_data"
    }
   ],
   "source": [
    "plt.boxplot(tourney_results['lscore'])\n",
    "plt.show()"
   ],
   "metadata": {
    "collapsed": false
   }
  },
  {
   "cell_type": "markdown",
   "source": [
    "Prikazan je kutijasti graf zabijenih poena na turnirima gubitničkih ekipa"
   ],
   "metadata": {
    "collapsed": false
   }
  },
  {
   "cell_type": "markdown",
   "source": [
    "Na izgled ima dosta vrijednosti koje strše, ali to je sport, znamo da uvijek ima neočekivanih rezultata, također dosta utakmica ode u produžetke i to po nekoliko njih tako da je to sve normalno"
   ],
   "metadata": {
    "collapsed": false
   }
  },
  {
   "cell_type": "code",
   "execution_count": 497,
   "outputs": [
    {
     "data": {
      "text/plain": "<Figure size 640x480 with 1 Axes>",
      "image/png": "[encoded data removed]"
     },
     "metadata": {},
     "output_type": "display_data"
    }
   ],
   "source": [
    "X = pd.merge(seasons, tourney_results, on='season', how='outer')\n",
    "X = pd.merge(X, teams, left_on='wteam', right_on='id', how='outer')\n",
    "\n",
    "ppg_winner = X.groupby('season')['wscore'].mean()\n",
    "ppg_loser = X.groupby('season')['lscore'].mean()\n",
    "season_values = X.groupby('season').count().index.values\n",
    "\n",
    "plt.bar(season_values, ppg_loser, color='blue', label='conceded')\n",
    "plt.bar(season_values, ppg_winner, color='red', label='scored',bottom=ppg_loser)\n",
    "plt.xlabel('Tournament')\n",
    "plt.ylabel('Average Points scored and conceded')\n",
    "plt.title('Average points scored and conceded for a wteam in a tournament')\n",
    "plt.grid()\n",
    "plt.show()"
   ],
   "metadata": {
    "collapsed": false
   }
  },
  {
   "cell_type": "markdown",
   "source": [
    "Graf nam govori koliko u prosjeku svaki pobjednički tim zabije, a koliko primi koševa na turniru svake godine"
   ],
   "metadata": {
    "collapsed": false
   }
  },
  {
   "cell_type": "code",
   "execution_count": 514,
   "outputs": [
    {
     "data": {
      "text/plain": "<Figure size 640x480 with 1 Axes>",
      "image/png": "[encoded data removed]"
     },
     "metadata": {},
     "output_type": "display_data"
    }
   ],
   "source": [
    "ppg_early_season = regular_season_results[regular_season_results['daynum'] < 30].groupby('season')['wscore'].mean() + regular_season_results[regular_season_results['daynum'] < 30].groupby('season')['lscore'].mean()\n",
    "ppg_late_season = regular_season_results[regular_season_results['daynum'] > 115].groupby('season')['wscore'].mean() + regular_season_results[regular_season_results['daynum'] > 115].groupby('season')['lscore'].mean()\n",
    "season_values = regular_season_results.groupby('season').count().index.values\n",
    "plt.plot(season_values, ppg_early_season, label='early_season')\n",
    "plt.plot(season_values, ppg_late_season, label='late_season')\n",
    "plt.legend()\n",
    "plt.xlabel('Season')\n",
    "plt.ylabel('Average Total Score')\n",
    "plt.title('Average Total Score, Begin and the End of the Season')\n",
    "plt.show()"
   ],
   "metadata": {
    "collapsed": false
   }
  },
  {
   "cell_type": "markdown",
   "source": [
    "Ovim linijskim grafom pokazali smo ovisnost zabijenih poena na utakmici o pocetku i kraju sezone"
   ],
   "metadata": {
    "collapsed": false
   }
  },
  {
   "cell_type": "code",
   "execution_count": null,
   "outputs": [],
   "source": [],
   "metadata": {
    "collapsed": false
   }
  }
 ],
 "metadata": {
  "kernelspec": {
   "display_name": "Python 3 (ipykernel)",
   "language": "python",
   "name": "python3"
  },
  "language_info": {
   "codemirror_mode": {
    "name": "ipython",
    "version": 3
   },
   "file_extension": ".py",
   "mimetype": "text/x-python",
   "name": "python",
   "nbconvert_exporter": "python",
   "pygments_lexer": "ipython3",
   "version": "3.11.4"
  }
 },
 "nbformat": 4,
 "nbformat_minor": 5
}
